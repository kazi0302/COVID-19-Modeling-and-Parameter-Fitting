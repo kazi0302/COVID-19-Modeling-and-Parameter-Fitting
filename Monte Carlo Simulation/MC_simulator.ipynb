{
 "cells": [
  {
   "cell_type": "code",
   "execution_count": 1,
   "metadata": {},
   "outputs": [],
   "source": [
    "import pandas as pd\n",
    "import matplotlib.pyplot as plt\n",
    "import scipy.stats as stats\n",
    "import math\n",
    "\n",
    "%matplotlib inline"
   ]
  },
  {
   "cell_type": "markdown",
   "metadata": {},
   "source": [
    "## One Region Monte Carlo Simulation (Central - High)"
   ]
  },
  {
   "cell_type": "code",
   "execution_count": 2,
   "metadata": {},
   "outputs": [],
   "source": [
    "# Initial population of Central Region\n",
    "Central = 511660\n",
    "S_init = 234144\n",
    "E_init = 1\n",
    "I_init = 1\n",
    "A_init = 1\n",
    "R_init = 0\n",
    "\n",
    "# Simulation period\n",
    "t = 1000 # days in 2 months"
   ]
  },
  {
   "cell_type": "code",
   "execution_count": 3,
   "metadata": {},
   "outputs": [],
   "source": [
    "param_dict = {\n",
    "    'High': [0.4e-6, 0.2e-6, 1/5, 0.4, 1/14, 0.001],\n",
    "    'Low': [0.4e-6, 0.2e-6, 1/5, 0.4, 1/14, 0.001],\n",
    "}\n",
    "\n",
    "beta_symp = param_dict['High'][0]\n",
    "beta_asym = param_dict['High'][1]\n",
    "gamma = param_dict['High'][2]\n",
    "theta = param_dict['High'][3]\n",
    "lamb = param_dict['High'][4]\n",
    "delta = param_dict['High'][5]"
   ]
  },
  {
   "cell_type": "code",
   "execution_count": 5,
   "metadata": {},
   "outputs": [],
   "source": [
    "# mean, var, skew, kurt = stats.binom.stats(Central, p, moments='mvsk') # mcsk = mean, variance, skew, kurtosis"
   ]
  },
  {
   "cell_type": "code",
   "execution_count": 6,
   "metadata": {},
   "outputs": [],
   "source": [
    "df = pd.DataFrame(columns=['Day', 'S', 'E', 'I', 'A', 'R'])\n",
    "# add initial values to the dataframe\n",
    "df.loc[0] = [1, S_init, E_init, I_init, A_init, R_init]"
   ]
  },
  {
   "cell_type": "code",
   "execution_count": 7,
   "metadata": {},
   "outputs": [],
   "source": [
    "for day in range(t+1):\n",
    "\n",
    "    # Calculate new values\n",
    "    S_new = S_init - ((beta_symp * I_init + beta_asym * A_init) * S_init)\n",
    "    E_new = E_init + ((beta_symp * I_init + beta_asym * A_init) * S_init) - (gamma * theta * E_init) - (gamma * (1 - theta) * E_init)\n",
    "    I_new = I_init + (gamma * theta * E_init) - ((delta + lamb) * I_init)\n",
    "    A_new = A_init + (gamma * (1 - theta) * E_init) - (delta * A_init)\n",
    "    R_new = R_init + (((delta + lamb) * I_init) + (delta * A_init))\n",
    "    \n",
    "    if (S_new + E_new + I_new + A_new + R_new) <= Central:\n",
    "\n",
    "        # Store each day's values in a dataframe\n",
    "        df.loc[day + 1] = [int(day + 2), math.ceil(S_new), math.ceil(E_new), math.ceil(I_new), math.ceil(A_new), math.ceil(R_new)]\n",
    "\n",
    "        # Update values\n",
    "        S_init, E_init, I_init, A_init, R_init = math.ceil(S_new), math.ceil(E_new), math.ceil(I_new), math.ceil(A_new), math.ceil(R_new)"
   ]
  },
  {
   "cell_type": "code",
   "execution_count": 9,
   "metadata": {},
   "outputs": [
    {
     "data": {
      "image/png": "[encoded data removed]",
      "text/plain": [
       "<Figure size 720x432 with 1 Axes>"
      ]
     },
     "metadata": {
      "needs_background": "light"
     },
     "output_type": "display_data"
    }
   ],
   "source": [
    "fig, ax = plt.subplots(figsize=(10, 6))\n",
    "# ax.plot(df['Day'], df['S'], label='Susceptible')\n",
    "# ax.plot(df['Day'], df['E'], label='Exposed')\n",
    "ax.plot(df['Day'], df['I']+df['A'], label='Infected')\n",
    "# ax.plot(df['Day'], df['A'], label='Asymptomatic')\n",
    "# ax.plot(df['Day'], df['R'], label='Recovered')\n",
    "ax.legend()\n",
    "ax.grid()"
   ]
  },
  {
   "cell_type": "code",
   "execution_count": null,
   "metadata": {},
   "outputs": [],
   "source": []
  }
 ],
 "metadata": {
  "kernelspec": {
   "display_name": "Python 3.9.12 ('data-science')",
   "language": "python",
   "name": "python3"
  },
  "language_info": {
   "codemirror_mode": {
    "name": "ipython",
    "version": 3
   },
   "file_extension": ".py",
   "mimetype": "text/x-python",
   "name": "python",
   "nbconvert_exporter": "python",
   "pygments_lexer": "ipython3",
   "version": "3.9.12"
  },
  "orig_nbformat": 4,
  "vscode": {
   "interpreter": {
    "hash": "6354a649cc0b693324a53dd55981932d92d4f5cef86098528e8bd6d383178d5c"
   }
  }
 },
 "nbformat": 4,
 "nbformat_minor": 2
}
