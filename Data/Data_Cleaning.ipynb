{
 "cells": [
  {
   "cell_type": "code",
   "execution_count": 35,
   "metadata": {},
   "outputs": [],
   "source": [
    "import os\n",
    "import pandas as pd\n",
    "import numpy as np\n",
    "import matplotlib.pyplot as plt"
   ]
  },
  {
   "cell_type": "code",
   "execution_count": 36,
   "metadata": {},
   "outputs": [],
   "source": [
    "def get_filepaths(directory):\n",
    "\n",
    "    '''\n",
    "    Read files from a path, and return file names\n",
    "    ---------------------------------------------\n",
    "\n",
    "    input:\n",
    "        directory: string of directory (path)\n",
    "\n",
    "    return:\n",
    "        a list of file names\n",
    "\n",
    "    '''\n",
    "\n",
    "    file_paths = [] # List which will store all of the full filepaths.\n",
    "\n",
    "    for filename in os.scandir(directory): # os.scandir() returns an iterator of DirEntry objects\n",
    "        if filename.is_file(): # if the object is a file\n",
    "            file_paths.append(filename.path) # append the file name to the list\n",
    "\n",
    "    return file_paths"
   ]
  },
  {
   "cell_type": "code",
   "execution_count": 37,
   "metadata": {},
   "outputs": [],
   "source": [
    "# directory paths (change paths if needed)\n",
    "data_dir_age = '/Users/kazi0302/Desktop/SDSU/MSCSDS/COVID-19-Modeling-and-Parameter-Fitting/Data/Data_unscrambled/Data_by_age'\n",
    "data_dir_date = '/Users/kazi0302/Desktop/SDSU/MSCSDS/COVID-19-Modeling-and-Parameter-Fitting/Data/Data_unscrambled/Data_by_date'\n",
    "data_dir_race = '/Users/kazi0302/Desktop/SDSU/MSCSDS/COVID-19-Modeling-and-Parameter-Fitting/Data/Data_unscrambled/Data_by_race'\n",
    "\n",
    "# store file paths from each catogory\n",
    "files_age = get_filepaths(data_dir_age)\n",
    "files_date = get_filepaths(data_dir_date)\n",
    "files_race = get_filepaths(data_dir_race)"
   ]
  },
  {
   "cell_type": "code",
   "execution_count": null,
   "metadata": {},
   "outputs": [],
   "source": []
  }
 ],
 "metadata": {
  "kernelspec": {
   "display_name": "Python 3.9.12 ('data-science')",
   "language": "python",
   "name": "python3"
  },
  "language_info": {
   "codemirror_mode": {
    "name": "ipython",
    "version": 3
   },
   "file_extension": ".py",
   "mimetype": "text/x-python",
   "name": "python",
   "nbconvert_exporter": "python",
   "pygments_lexer": "ipython3",
   "version": "3.9.12"
  },
  "orig_nbformat": 4,
  "vscode": {
   "interpreter": {
    "hash": "6354a649cc0b693324a53dd55981932d92d4f5cef86098528e8bd6d383178d5c"
   }
  }
 },
 "nbformat": 4,
 "nbformat_minor": 2
}
