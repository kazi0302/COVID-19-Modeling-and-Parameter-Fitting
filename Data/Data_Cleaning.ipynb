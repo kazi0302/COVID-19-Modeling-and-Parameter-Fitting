{
 "cells": [
  {
   "cell_type": "code",
   "execution_count": 110,
   "metadata": {},
   "outputs": [],
   "source": [
    "import os\n",
    "import pandas as pd\n",
    "from datetime import *\n",
    "import numpy as np\n",
    "import matplotlib.pyplot as plt"
   ]
  },
  {
   "cell_type": "code",
   "execution_count": 36,
   "metadata": {},
   "outputs": [],
   "source": [
    "def get_filepaths(directory):\n",
    "\n",
    "    '''\n",
    "    Read files from a path, and return file names\n",
    "    ---------------------------------------------\n",
    "\n",
    "    input:\n",
    "        directory: string of directory (path)\n",
    "\n",
    "    return:\n",
    "        a list of file names\n",
    "\n",
    "    '''\n",
    "\n",
    "    file_paths = [] # List which will store all of the full filepaths.\n",
    "\n",
    "    for filename in os.scandir(directory): # os.scandir() returns an iterator of DirEntry objects\n",
    "        if filename.is_file(): # if the object is a file\n",
    "            file_paths.append(filename.path) # append the file name to the list\n",
    "\n",
    "    return file_paths"
   ]
  },
  {
   "cell_type": "code",
   "execution_count": 37,
   "metadata": {},
   "outputs": [],
   "source": [
    "# directory paths (change paths if needed)\n",
    "data_dir_age = '/Users/kazi0302/Desktop/SDSU/MSCSDS/COVID-19-Modeling-and-Parameter-Fitting/Data/Data_unscrambled/Data_by_age'\n",
    "data_dir_date = '/Users/kazi0302/Desktop/SDSU/MSCSDS/COVID-19-Modeling-and-Parameter-Fitting/Data/Data_unscrambled/Data_by_date'\n",
    "data_dir_race = '/Users/kazi0302/Desktop/SDSU/MSCSDS/COVID-19-Modeling-and-Parameter-Fitting/Data/Data_unscrambled/Data_by_race'\n",
    "\n",
    "# store file paths from each catogory\n",
    "files_age = get_filepaths(data_dir_age)\n",
    "files_date = get_filepaths(data_dir_date)\n",
    "files_race = get_filepaths(data_dir_race)"
   ]
  },
  {
   "cell_type": "code",
   "execution_count": 74,
   "metadata": {},
   "outputs": [],
   "source": [
    "df = pd.read_csv(files_date[0])"
   ]
  },
  {
   "cell_type": "code",
   "execution_count": 134,
   "metadata": {},
   "outputs": [],
   "source": [
    "def get_data(filename):\n",
    "\n",
    "    '''\n",
    "    Read data file, extract corresponding rows and store each region\n",
    "    ----------------------------------------------------------------\n",
    "\n",
    "    input:\n",
    "        filename: string of file name\n",
    "\n",
    "    return:\n",
    "        dictionaries of dataframes of each region\n",
    "    \n",
    "    '''\n",
    "\n",
    "    if filename.endswith('.csv'):\n",
    "        df = pd.read_csv(filename)\n",
    "    elif filename.endswith('.xlsx'):\n",
    "        df = pd.read_excel(filename)\n",
    "    else:\n",
    "        print('File type not supported')\n",
    "\n",
    "    central = {}\n",
    "    east = {}\n",
    "    north_central = {}\n",
    "    north_coastal = {}\n",
    "    north_inland = {}\n",
    "    south = {}\n",
    "\n",
    "    for index, row in df.iterrows():\n",
    "        temp = [] # date, raw, total\n",
    "        if row[0] == 'Central Region':\n",
    "            temp.append(pd.to_pydatetime(row[-1]))\n",
    "            temp.append(row[1])\n",
    "            temp.append(row[2])\n",
    "            central[row[0]] = temp\n",
    "\n",
    "        elif row[0] == 'East Region':\n",
    "            temp.append(row[-1])\n",
    "            temp.append(row[1])\n",
    "            temp.append(row[2])\n",
    "            east[row[0]] = temp\n",
    "\n",
    "        elif row[0] == 'North Central Region':\n",
    "            temp.append(row[-1])\n",
    "            temp.append(row[1])\n",
    "            temp.append(row[2])\n",
    "            north_central[row[0]] = temp\n",
    "\n",
    "        elif row[0] == 'North Coastal Region':\n",
    "            temp.append(row[-1])\n",
    "            temp.append(row[1])\n",
    "            temp.append(row[2])\n",
    "            north_coastal[row[0]] = temp\n",
    "\n",
    "        elif row[0] == 'North Inland Region':\n",
    "            temp.append(row[-1])\n",
    "            temp.append(row[1])\n",
    "            temp.append(row[2])\n",
    "            north_inland[row[0]] = temp\n",
    "            \n",
    "        elif row[0] == 'South Region':\n",
    "            temp.append(row[-1])\n",
    "            temp.append(row[1])\n",
    "            temp.append(row[2])\n",
    "            south[row[0]] = temp\n",
    "\n",
    "        else:\n",
    "            pass\n",
    "\n",
    "    return central, east, north_central, north_coastal, north_inland, south\n",
    "\n",
    "    # new_central = pd.DataFrame(central, index=['date', 'raw', 'total'])\n",
    "    # new_east = pd.DataFrame(east, index=['date', 'raw', 'total'])\n",
    "    # new_north_central = pd.DataFrame(north_central, index=['date', 'raw', 'total'])\n",
    "    # new_north_coastal = pd.DataFrame(north_coastal, index=['date', 'raw', 'total'])\n",
    "    # new_north_inland = pd.DataFrame(north_inland, index=['date', 'raw', 'total'])\n",
    "    # new_south = pd.DataFrame(south, index=['date', 'raw', 'total'])\n"
   ]
  },
  {
   "cell_type": "code",
   "execution_count": 135,
   "metadata": {},
   "outputs": [
    {
     "ename": "AttributeError",
     "evalue": "module 'pandas' has no attribute 'to_pydatetime'",
     "output_type": "error",
     "traceback": [
      "\u001b[0;31m---------------------------------------------------------------------------\u001b[0m",
      "\u001b[0;31mAttributeError\u001b[0m                            Traceback (most recent call last)",
      "\u001b[0;32m/var/folders/bj/rxgzxsys6l5_vz3tskqk6zgr0000gn/T/ipykernel_16809/4110322767.py\u001b[0m in \u001b[0;36m<module>\u001b[0;34m\u001b[0m\n\u001b[1;32m      3\u001b[0m \u001b[0;32mfor\u001b[0m \u001b[0mfile\u001b[0m \u001b[0;32min\u001b[0m \u001b[0mfiles_date\u001b[0m\u001b[0;34m:\u001b[0m\u001b[0;34m\u001b[0m\u001b[0;34m\u001b[0m\u001b[0m\n\u001b[1;32m      4\u001b[0m \u001b[0;34m\u001b[0m\u001b[0m\n\u001b[0;32m----> 5\u001b[0;31m     \u001b[0mcentral\u001b[0m\u001b[0;34m,\u001b[0m \u001b[0meast\u001b[0m\u001b[0;34m,\u001b[0m \u001b[0mnorth_central\u001b[0m\u001b[0;34m,\u001b[0m \u001b[0mnorth_coastal\u001b[0m\u001b[0;34m,\u001b[0m \u001b[0mnorth_inland\u001b[0m\u001b[0;34m,\u001b[0m \u001b[0msouth\u001b[0m \u001b[0;34m=\u001b[0m \u001b[0mget_data\u001b[0m\u001b[0;34m(\u001b[0m\u001b[0mfile\u001b[0m\u001b[0;34m)\u001b[0m\u001b[0;34m\u001b[0m\u001b[0;34m\u001b[0m\u001b[0m\n\u001b[0m\u001b[1;32m      6\u001b[0m \u001b[0;34m\u001b[0m\u001b[0m\n\u001b[1;32m      7\u001b[0m     \u001b[0mprint\u001b[0m\u001b[0;34m(\u001b[0m\u001b[0meast\u001b[0m\u001b[0;34m)\u001b[0m\u001b[0;34m\u001b[0m\u001b[0;34m\u001b[0m\u001b[0m\n",
      "\u001b[0;32m/var/folders/bj/rxgzxsys6l5_vz3tskqk6zgr0000gn/T/ipykernel_16809/3404852870.py\u001b[0m in \u001b[0;36mget_data\u001b[0;34m(filename)\u001b[0m\n\u001b[1;32m     30\u001b[0m         \u001b[0mtemp\u001b[0m \u001b[0;34m=\u001b[0m \u001b[0;34m[\u001b[0m\u001b[0;34m]\u001b[0m \u001b[0;31m# date, raw, total\u001b[0m\u001b[0;34m\u001b[0m\u001b[0;34m\u001b[0m\u001b[0m\n\u001b[1;32m     31\u001b[0m         \u001b[0;32mif\u001b[0m \u001b[0mrow\u001b[0m\u001b[0;34m[\u001b[0m\u001b[0;36m0\u001b[0m\u001b[0;34m]\u001b[0m \u001b[0;34m==\u001b[0m \u001b[0;34m'Central Region'\u001b[0m\u001b[0;34m:\u001b[0m\u001b[0;34m\u001b[0m\u001b[0;34m\u001b[0m\u001b[0m\n\u001b[0;32m---> 32\u001b[0;31m             \u001b[0mtemp\u001b[0m\u001b[0;34m.\u001b[0m\u001b[0mappend\u001b[0m\u001b[0;34m(\u001b[0m\u001b[0mpd\u001b[0m\u001b[0;34m.\u001b[0m\u001b[0mto_pydatetime\u001b[0m\u001b[0;34m(\u001b[0m\u001b[0mrow\u001b[0m\u001b[0;34m[\u001b[0m\u001b[0;34m-\u001b[0m\u001b[0;36m1\u001b[0m\u001b[0;34m]\u001b[0m\u001b[0;34m)\u001b[0m\u001b[0;34m)\u001b[0m\u001b[0;34m\u001b[0m\u001b[0;34m\u001b[0m\u001b[0m\n\u001b[0m\u001b[1;32m     33\u001b[0m             \u001b[0mtemp\u001b[0m\u001b[0;34m.\u001b[0m\u001b[0mappend\u001b[0m\u001b[0;34m(\u001b[0m\u001b[0mrow\u001b[0m\u001b[0;34m[\u001b[0m\u001b[0;36m1\u001b[0m\u001b[0;34m]\u001b[0m\u001b[0;34m)\u001b[0m\u001b[0;34m\u001b[0m\u001b[0;34m\u001b[0m\u001b[0m\n\u001b[1;32m     34\u001b[0m             \u001b[0mtemp\u001b[0m\u001b[0;34m.\u001b[0m\u001b[0mappend\u001b[0m\u001b[0;34m(\u001b[0m\u001b[0mrow\u001b[0m\u001b[0;34m[\u001b[0m\u001b[0;36m2\u001b[0m\u001b[0;34m]\u001b[0m\u001b[0;34m)\u001b[0m\u001b[0;34m\u001b[0m\u001b[0;34m\u001b[0m\u001b[0m\n",
      "\u001b[0;32m/opt/anaconda3/envs/data-science/lib/python3.9/site-packages/pandas/__init__.py\u001b[0m in \u001b[0;36m__getattr__\u001b[0;34m(name)\u001b[0m\n\u001b[1;32m    242\u001b[0m         \u001b[0;32mreturn\u001b[0m \u001b[0m_SparseArray\u001b[0m\u001b[0;34m\u001b[0m\u001b[0;34m\u001b[0m\u001b[0m\n\u001b[1;32m    243\u001b[0m \u001b[0;34m\u001b[0m\u001b[0m\n\u001b[0;32m--> 244\u001b[0;31m     \u001b[0;32mraise\u001b[0m \u001b[0mAttributeError\u001b[0m\u001b[0;34m(\u001b[0m\u001b[0;34mf\"module 'pandas' has no attribute '{name}'\"\u001b[0m\u001b[0;34m)\u001b[0m\u001b[0;34m\u001b[0m\u001b[0;34m\u001b[0m\u001b[0m\n\u001b[0m\u001b[1;32m    245\u001b[0m \u001b[0;34m\u001b[0m\u001b[0m\n\u001b[1;32m    246\u001b[0m \u001b[0;34m\u001b[0m\u001b[0m\n",
      "\u001b[0;31mAttributeError\u001b[0m: module 'pandas' has no attribute 'to_pydatetime'"
     ]
    }
   ],
   "source": [
    "data_central = pd.DataFrame(index=['date', 'raw', 'total'])\n",
    "\n",
    "for file in files_date:\n",
    "    \n",
    "    central, east, north_central, north_coastal, north_inland, south = get_data(file)\n",
    "\n",
    "    "
   ]
  },
  {
   "cell_type": "code",
   "execution_count": 132,
   "metadata": {},
   "outputs": [
    {
     "data": {
      "text/html": [
       "<div>\n",
       "<style scoped>\n",
       "    .dataframe tbody tr th:only-of-type {\n",
       "        vertical-align: middle;\n",
       "    }\n",
       "\n",
       "    .dataframe tbody tr th {\n",
       "        vertical-align: top;\n",
       "    }\n",
       "\n",
       "    .dataframe thead th {\n",
       "        text-align: right;\n",
       "    }\n",
       "</style>\n",
       "<table border=\"1\" class=\"dataframe\">\n",
       "  <thead>\n",
       "    <tr style=\"text-align: right;\">\n",
       "      <th></th>\n",
       "    </tr>\n",
       "  </thead>\n",
       "  <tbody>\n",
       "    <tr>\n",
       "      <th>date</th>\n",
       "    </tr>\n",
       "    <tr>\n",
       "      <th>raw</th>\n",
       "    </tr>\n",
       "    <tr>\n",
       "      <th>total</th>\n",
       "    </tr>\n",
       "  </tbody>\n",
       "</table>\n",
       "</div>"
      ],
      "text/plain": [
       "Empty DataFrame\n",
       "Columns: []\n",
       "Index: [date, raw, total]"
      ]
     },
     "execution_count": 132,
     "metadata": {},
     "output_type": "execute_result"
    }
   ],
   "source": [
    "data_central"
   ]
  },
  {
   "cell_type": "code",
   "execution_count": null,
   "metadata": {},
   "outputs": [],
   "source": []
  }
 ],
 "metadata": {
  "kernelspec": {
   "display_name": "Python 3.9.12 ('data-science')",
   "language": "python",
   "name": "python3"
  },
  "language_info": {
   "codemirror_mode": {
    "name": "ipython",
    "version": 3
   },
   "file_extension": ".py",
   "mimetype": "text/x-python",
   "name": "python",
   "nbconvert_exporter": "python",
   "pygments_lexer": "ipython3",
   "version": "3.9.12"
  },
  "orig_nbformat": 4,
  "vscode": {
   "interpreter": {
    "hash": "6354a649cc0b693324a53dd55981932d92d4f5cef86098528e8bd6d383178d5c"
   }
  }
 },
 "nbformat": 4,
 "nbformat_minor": 2
}
