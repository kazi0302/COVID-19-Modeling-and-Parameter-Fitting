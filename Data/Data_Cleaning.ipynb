{
 "cells": [
  {
   "cell_type": "code",
   "execution_count": 1,
   "metadata": {},
   "outputs": [],
   "source": [
    "import os\n",
    "import pandas as pd\n",
    "import numpy as np\n",
    "import matplotlib.pyplot as plt"
   ]
  },
  {
   "cell_type": "markdown",
   "metadata": {},
   "source": [
    "### Step 1: Create a function that stores the file paths in the folder"
   ]
  },
  {
   "cell_type": "code",
   "execution_count": 3,
   "metadata": {},
   "outputs": [],
   "source": [
    "def get_filepaths(directory):\n",
    "\n",
    "    '''\n",
    "    Read files from a path, and return file names\n",
    "    ---------------------------------------------\n",
    "\n",
    "    input:\n",
    "        directory: string of directory (path)\n",
    "\n",
    "    return:\n",
    "        a list of file names\n",
    "\n",
    "    '''\n",
    "\n",
    "    file_paths = [] # List which will store all of the full filepaths.\n",
    "\n",
    "    for filename in os.scandir(directory): # os.scandir() returns an iterator of DirEntry objects\n",
    "        if filename.is_file(): # if the object is a file\n",
    "            file_paths.append(filename.path) # append the file name to the list\n",
    "\n",
    "    return file_paths"
   ]
  },
  {
   "cell_type": "code",
   "execution_count": 4,
   "metadata": {},
   "outputs": [],
   "source": [
    "# directory paths (change paths if needed)\n",
    "data_dir_date = '/Users/kazi0302/Desktop/SDSU/MSCSDS/COVID-19-Modeling-and-Parameter-Fitting/Data/Data-Processed-Date'\n",
    "# data_dir_age = '/Users/kazi0302/Desktop/SDSU/MSCSDS/COVID-19-Modeling-and-Parameter-Fitting/Data/Data_unscrambled/Data_by_age'\n",
    "# data_dir_race = '/Users/kazi0302/Desktop/SDSU/MSCSDS/COVID-19-Modeling-and-Parameter-Fitting/Data/Data_unscrambled/Data_by_race'\n",
    "\n",
    "# store file paths from each catogory\n",
    "files_date = get_filepaths(data_dir_date)\n",
    "# files_age = get_filepaths(data_dir_age)\n",
    "# files_race = get_filepaths(data_dir_race)"
   ]
  },
  {
   "cell_type": "markdown",
   "metadata": {},
   "source": [
    "### Step 2: Create a function that reads each file stored and extract the information needed"
   ]
  },
  {
   "cell_type": "code",
   "execution_count": 5,
   "metadata": {},
   "outputs": [],
   "source": [
    "def get_data(filename):\n",
    "\n",
    "    '''\n",
    "    Read data file, extract corresponding rows and store each region\n",
    "    ----------------------------------------------------------------\n",
    "\n",
    "    input:\n",
    "        filename: string of file name\n",
    "\n",
    "    return:\n",
    "        dictionaries of dataframes of each region\n",
    "    \n",
    "    '''\n",
    "\n",
    "    df = pd.read_csv(filename)\n",
    "\n",
    "    result = []\n",
    "\n",
    "    for index, row in df.iterrows():\n",
    "        date = row[-1]\n",
    "        raw = row[0]\n",
    "        total = row[1]\n",
    "        result.append([date, raw, total])\n",
    "\n",
    "    return result\n",
    "\n",
    "    # for index, row in df.iterrows():\n",
    "    #     temp = [] # date, raw, total\n",
    "\n",
    "    #     # central region data\n",
    "    #     if row[0] == 'Central Region' and row[1] and row[2]:\n",
    "    #         temp.append(row[-1])\n",
    "    #         temp.append(row[1])\n",
    "    #         temp.append(row[2])\n",
    "    #         central.append(temp)\n",
    "\n",
    "    #     # east region data\n",
    "    #     elif row[0] == 'East Region':\n",
    "    #         temp.append(row[-1])\n",
    "    #         temp.append(row[1])\n",
    "    #         temp.append(row[2])\n",
    "    #         east.append(temp)\n",
    "\n",
    "    #     # north central region data\n",
    "    #     elif row[0] == 'North Central Region':\n",
    "    #         temp.append(row[-1])\n",
    "    #         temp.append(row[1])\n",
    "    #         temp.append(row[2])\n",
    "    #         north_central.append(temp)\n",
    "\n",
    "    #     # north coastal region data\n",
    "    #     elif row[0] == 'North Coastal Region':\n",
    "    #         temp.append(row[-1])\n",
    "    #         temp.append(row[1])\n",
    "    #         temp.append(row[2])\n",
    "    #         north_coastal.append(temp)\n",
    "\n",
    "    #     # north inland region data\n",
    "    #     elif row[0] == 'North Inland Region':\n",
    "    #         temp.append(row[-1])\n",
    "    #         temp.append(row[1])\n",
    "    #         temp.append(row[2])\n",
    "    #         north_inland.append(temp)\n",
    "\n",
    "    #     # south region data\n",
    "    #     elif row[0] == 'South Region':\n",
    "    #         temp.append(row[-1])\n",
    "    #         temp.append(row[1])\n",
    "    #         temp.append(row[2])\n",
    "    #         south.append(temp)\n",
    "\n",
    "    #     else:\n",
    "    #         pass\n",
    "\n",
    "    # return central, east, north_central, north_coastal, north_inland, south\n",
    "\n",
    "    # new_central = pd.DataFrame(central, index=['date', 'raw', 'total'])\n",
    "    # new_east = pd.DataFrame(east, index=['date', 'raw', 'total'])\n",
    "    # new_north_central = pd.DataFrame(north_central, index=['date', 'raw', 'total'])\n",
    "    # new_north_coastal = pd.DataFrame(north_coastal, index=['date', 'raw', 'total'])\n",
    "    # new_north_inland = pd.DataFrame(north_inland, index=['date', 'raw', 'total'])\n",
    "    # new_south = pd.DataFrame(south, index=['date', 'raw', 'total'])\n"
   ]
  },
  {
   "cell_type": "markdown",
   "metadata": {},
   "source": [
    "### Step 3: Convert the data into Pandas dataframe"
   ]
  },
  {
   "cell_type": "code",
   "execution_count": 29,
   "metadata": {},
   "outputs": [
    {
     "data": {
      "text/plain": [
       "['/Users/kazi0302/Desktop/SDSU/MSCSDS/COVID-19-Modeling-and-Parameter-Fitting/Data/Data-Processed-Date/Region-SouthRegion.csv',\n",
       " '/Users/kazi0302/Desktop/SDSU/MSCSDS/COVID-19-Modeling-and-Parameter-Fitting/Data/Data-Processed-Date/Region-NorthCoastalRegion.csv',\n",
       " '/Users/kazi0302/Desktop/SDSU/MSCSDS/COVID-19-Modeling-and-Parameter-Fitting/Data/Data-Processed-Date/Region-NorthInlandRegion.csv',\n",
       " '/Users/kazi0302/Desktop/SDSU/MSCSDS/COVID-19-Modeling-and-Parameter-Fitting/Data/Data-Processed-Date/Region-EastRegion.csv',\n",
       " '/Users/kazi0302/Desktop/SDSU/MSCSDS/COVID-19-Modeling-and-Parameter-Fitting/Data/Data-Processed-Date/Region-NorthCentralRegion.csv',\n",
       " '/Users/kazi0302/Desktop/SDSU/MSCSDS/COVID-19-Modeling-and-Parameter-Fitting/Data/Data-Processed-Date/Region-CentralRegion.csv',\n",
       " '/Users/kazi0302/Desktop/SDSU/MSCSDS/COVID-19-Modeling-and-Parameter-Fitting/Data/Data-Processed-Date/All-Regions.csv']"
      ]
     },
     "execution_count": 29,
     "metadata": {},
     "output_type": "execute_result"
    }
   ],
   "source": [
    "files_date"
   ]
  },
  {
   "cell_type": "code",
   "execution_count": 13,
   "metadata": {},
   "outputs": [],
   "source": [
    "central = get_data(files_date[1])\n",
    "east = get_data(files_date[2])\n",
    "north_central = get_data(files_date[3])\n",
    "north_coastal = get_data(files_date[4])\n",
    "north_inn = get_data(files_date[5])\n",
    "south = get_data(files_date[6])\n",
    "\n",
    "data_central = pd.DataFrame(central, columns=['date', 'raw', 'total']).sort_values(by=['date'])\n",
    "data_east = pd.DataFrame(east, columns=['date', 'raw', 'total']).sort_values(by=['date'])\n",
    "data_north_central = pd.DataFrame(north_central, columns=['date', 'raw', 'total']).sort_values(by=['date'])\n",
    "data_north_coastal = pd.DataFrame(north_coastal, columns=['date', 'raw', 'total']).sort_values(by=['date'])\n",
    "data_north_inn = pd.DataFrame(north_inn, columns=['date', 'raw', 'total']).sort_values(by=['date'])\n",
    "data_south = pd.DataFrame(south, columns=['date', 'raw', 'total']).sort_values(by=['date'])"
   ]
  },
  {
   "cell_type": "code",
   "execution_count": 31,
   "metadata": {},
   "outputs": [
    {
     "data": {
      "text/html": [
       "<div>\n",
       "<style scoped>\n",
       "    .dataframe tbody tr th:only-of-type {\n",
       "        vertical-align: middle;\n",
       "    }\n",
       "\n",
       "    .dataframe tbody tr th {\n",
       "        vertical-align: top;\n",
       "    }\n",
       "\n",
       "    .dataframe thead th {\n",
       "        text-align: right;\n",
       "    }\n",
       "</style>\n",
       "<table border=\"1\" class=\"dataframe\">\n",
       "  <thead>\n",
       "    <tr style=\"text-align: right;\">\n",
       "      <th></th>\n",
       "      <th>date</th>\n",
       "      <th>raw</th>\n",
       "      <th>total</th>\n",
       "    </tr>\n",
       "  </thead>\n",
       "  <tbody>\n",
       "    <tr>\n",
       "      <th>106</th>\n",
       "      <td>9/4/2020</td>\n",
       "      <td>3988.0</td>\n",
       "      <td>711.300</td>\n",
       "    </tr>\n",
       "    <tr>\n",
       "      <th>108</th>\n",
       "      <td>9/5/2020</td>\n",
       "      <td>4019.0</td>\n",
       "      <td>716.900</td>\n",
       "    </tr>\n",
       "    <tr>\n",
       "      <th>109</th>\n",
       "      <td>9/6/2020</td>\n",
       "      <td>4038.0</td>\n",
       "      <td>720.300</td>\n",
       "    </tr>\n",
       "    <tr>\n",
       "      <th>110</th>\n",
       "      <td>9/7/2020</td>\n",
       "      <td>4059.0</td>\n",
       "      <td>724.000</td>\n",
       "    </tr>\n",
       "    <tr>\n",
       "      <th>174</th>\n",
       "      <td>NaN</td>\n",
       "      <td>572.0</td>\n",
       "      <td>101.731</td>\n",
       "    </tr>\n",
       "  </tbody>\n",
       "</table>\n",
       "</div>"
      ],
      "text/plain": [
       "         date     raw    total\n",
       "106  9/4/2020  3988.0  711.300\n",
       "108  9/5/2020  4019.0  716.900\n",
       "109  9/6/2020  4038.0  720.300\n",
       "110  9/7/2020  4059.0  724.000\n",
       "174       NaN   572.0  101.731"
      ]
     },
     "execution_count": 31,
     "metadata": {},
     "output_type": "execute_result"
    }
   ],
   "source": [
    "data_central.tail()"
   ]
  },
  {
   "cell_type": "code",
   "execution_count": 23,
   "metadata": {},
   "outputs": [
    {
     "data": {
      "text/plain": [
       "<AxesSubplot:>"
      ]
     },
     "execution_count": 23,
     "metadata": {},
     "output_type": "execute_result"
    },
    {
     "data": {
      "image/png": "[encoded data removed]",
      "text/plain": [
       "<Figure size 1800x720 with 1 Axes>"
      ]
     },
     "metadata": {
      "needs_background": "light"
     },
     "output_type": "display_data"
    }
   ],
   "source": [
    "data_central.plot.bar(figsize=(25,10))"
   ]
  },
  {
   "cell_type": "code",
   "execution_count": null,
   "metadata": {},
   "outputs": [],
   "source": []
  }
 ],
 "metadata": {
  "kernelspec": {
   "display_name": "Python 3.9.12 ('data-science')",
   "language": "python",
   "name": "python3"
  },
  "language_info": {
   "codemirror_mode": {
    "name": "ipython",
    "version": 3
   },
   "file_extension": ".py",
   "mimetype": "text/x-python",
   "name": "python",
   "nbconvert_exporter": "python",
   "pygments_lexer": "ipython3",
   "version": "3.9.12"
  },
  "orig_nbformat": 4,
  "vscode": {
   "interpreter": {
    "hash": "6354a649cc0b693324a53dd55981932d92d4f5cef86098528e8bd6d383178d5c"
   }
  }
 },
 "nbformat": 4,
 "nbformat_minor": 2
}
