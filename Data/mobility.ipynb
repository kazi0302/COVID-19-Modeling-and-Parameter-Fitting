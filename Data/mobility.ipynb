{
 "cells": [
  {
   "cell_type": "code",
   "execution_count": 1,
   "metadata": {},
   "outputs": [],
   "source": [
    "import numpy as np\n",
    "import pandas as pd"
   ]
  },
  {
   "cell_type": "code",
   "execution_count": 2,
   "metadata": {},
   "outputs": [],
   "source": [
    "df = pd.read_csv('/Users/kazi0302/Desktop/SDSU/MSCSDS/COVID-19-Modeling-and-Parameter-Fitting/Data/Local Mobility Data.xlsx - HHSA.csv')"
   ]
  },
  {
   "cell_type": "code",
   "execution_count": 3,
   "metadata": {},
   "outputs": [],
   "source": [
    "for index, row in df.iterrows():\n",
    "    if type(row['Updated May 8 Number']) is str:\n",
    "        df.at[index, 'Updated May 8 Number'] = row['Updated May 8 Number'].replace(',', '')"
   ]
  },
  {
   "cell_type": "code",
   "execution_count": 4,
   "metadata": {},
   "outputs": [],
   "source": [
    "Central = {}\n",
    "East = {}\n",
    "N_Central = {}\n",
    "N_Coastal = {}\n",
    "N_Inland = {}\n",
    "South = {}\n",
    "\n",
    "\n",
    "for index, row in df.iterrows():\n",
    "    if row['h_hhsa_name (ORIGIN)'] == 'CENTRAL' and row['w_hhsa_name (DESTINATION)'] not in Central:\n",
    "        Central[row['w_hhsa_name (DESTINATION)']] = [int(row['Baseline All Jobs']), int(row['Updated May 8 Number'])]\n",
    "    elif row['h_hhsa_name (ORIGIN)'] == 'EAST' and row['w_hhsa_name (DESTINATION)'] not in East:\n",
    "        East[row['w_hhsa_name (DESTINATION)']] = [int(row['Baseline All Jobs']), int(row['Updated May 8 Number'])]\n",
    "    elif row['h_hhsa_name (ORIGIN)'] == 'NORTH CENTRAL' and row['w_hhsa_name (DESTINATION)'] not in N_Central:\n",
    "        N_Central[row['w_hhsa_name (DESTINATION)']] = [int(row['Baseline All Jobs']), int(row['Updated May 8 Number'])]\n",
    "    elif row['h_hhsa_name (ORIGIN)'] == 'NORTH COASTAL' and row['w_hhsa_name (DESTINATION)'] not in N_Coastal:\n",
    "        N_Coastal[row['w_hhsa_name (DESTINATION)']] = [int(row['Baseline All Jobs']), int(row['Updated May 8 Number'])]\n",
    "    elif row['h_hhsa_name (ORIGIN)'] == 'NORTH INLAND' and row['w_hhsa_name (DESTINATION)'] not in N_Inland:\n",
    "        N_Inland[row['w_hhsa_name (DESTINATION)']] = [int(row['Baseline All Jobs']), int(row['Updated May 8 Number'])]\n",
    "    elif row['h_hhsa_name (ORIGIN)'] == 'SOUTH' and row['w_hhsa_name (DESTINATION)'] not in South:\n",
    "        South[row['w_hhsa_name (DESTINATION)']] = [int(row['Baseline All Jobs']), int(row['Updated May 8 Number'])]\n",
    "\n",
    "Central.popitem()\n",
    "East.popitem()\n",
    "N_Central.popitem()\n",
    "N_Coastal.popitem()\n",
    "N_Inland.popitem()\n",
    "South.popitem()\n",
    "\n",
    "Central = pd.DataFrame.from_dict(Central, orient='index', columns=['Before 5/8', 'After 5/8'])\n",
    "East = pd.DataFrame.from_dict(East, orient='index', columns=['Before 5/8', 'After 5/8'])\n",
    "N_Central = pd.DataFrame.from_dict(N_Central, orient='index', columns=['Before 5/8', 'After 5/8'])\n",
    "N_Coastal = pd.DataFrame.from_dict(N_Coastal, orient='index', columns=['Before 5/8', 'After 5/8'])\n",
    "N_Inland = pd.DataFrame.from_dict(N_Inland, orient='index', columns=['Before 5/8', 'After 5/8'])\n",
    "South = pd.DataFrame.from_dict(South, orient='index', columns=['Before 5/8', 'After 5/8'])"
   ]
  },
  {
   "cell_type": "code",
   "execution_count": 9,
   "metadata": {},
   "outputs": [
    {
     "name": "stdout",
     "output_type": "stream",
     "text": [
      "##########Central##########\n",
      "               Before 5/8  After 5/8\n",
      "NORTH COASTAL        6265       6265\n",
      "NORTH CENTRAL       77369      47969\n",
      "CENTRAL             52925      67744\n",
      "SOUTH               19312      12939\n",
      "EAST                18068      12286\n",
      "NORTH INLAND         9451       9451\n",
      "\n",
      "##########East##########\n",
      "               Before 5/8  After 5/8\n",
      "NORTH COASTAL        6217       6217\n",
      "NORTH CENTRAL       61336      73603\n",
      "CENTRAL             27209      24488\n",
      "SOUTH               13998      13998\n",
      "EAST                62893      83019\n",
      "NORTH INLAND        12511      12511\n",
      "\n",
      "##########North Central##########\n",
      "               Before 5/8  After 5/8\n",
      "NORTH COASTAL       13229      13229\n",
      "NORTH CENTRAL      135269     169086\n",
      "CENTRAL             34489      24487\n",
      "SOUTH                9588       9588\n",
      "EAST                12980      10124\n",
      "NORTH INLAND        19578      19578\n",
      "\n",
      "##########North Coastal##########\n",
      "               Before 5/8  After 5/8\n",
      "NORTH COASTAL       90238     120919\n",
      "NORTH CENTRAL       33295      33295\n",
      "CENTRAL              5942       5942\n",
      "SOUTH                2428       2428\n",
      "EAST                 2951       2951\n",
      "NORTH INLAND        26859      34917\n",
      "\n",
      "##########North Inland##########\n",
      "               Before 5/8  After 5/8\n",
      "NORTH COASTAL       36852      28745\n",
      "NORTH CENTRAL       58747      58747\n",
      "CENTRAL             10551      10551\n",
      "SOUTH                4037       4037\n",
      "EAST                 7904       7904\n",
      "NORTH INLAND        85670     113941\n",
      "\n",
      "##########South##########\n",
      "               Before 5/8  After 5/8\n",
      "NORTH COASTAL        5437       5437\n",
      "NORTH CENTRAL       53673      53673\n",
      "CENTRAL             32902      25993\n",
      "SOUTH               64913      80492\n",
      "EAST                16627      16627\n",
      "NORTH INLAND         7484       7484\n"
     ]
    }
   ],
   "source": [
    "print('##########Central##########')\n",
    "print(Central)\n",
    "print('\\n##########East##########')\n",
    "print(East)\n",
    "print('\\n##########North Central##########')\n",
    "print(N_Central)\n",
    "print('\\n##########North Coastal##########')\n",
    "print(N_Coastal)\n",
    "print('\\n##########North Inland##########')\n",
    "print(N_Inland)\n",
    "print('\\n##########South##########')\n",
    "print(South)"
   ]
  },
  {
   "cell_type": "code",
   "execution_count": null,
   "metadata": {},
   "outputs": [],
   "source": []
  }
 ],
 "metadata": {
  "kernelspec": {
   "display_name": "Python 3.9.12 ('data-science')",
   "language": "python",
   "name": "python3"
  },
  "language_info": {
   "codemirror_mode": {
    "name": "ipython",
    "version": 3
   },
   "file_extension": ".py",
   "mimetype": "text/x-python",
   "name": "python",
   "nbconvert_exporter": "python",
   "pygments_lexer": "ipython3",
   "version": "3.9.12"
  },
  "orig_nbformat": 4,
  "vscode": {
   "interpreter": {
    "hash": "6354a649cc0b693324a53dd55981932d92d4f5cef86098528e8bd6d383178d5c"
   }
  }
 },
 "nbformat": 4,
 "nbformat_minor": 2
}
