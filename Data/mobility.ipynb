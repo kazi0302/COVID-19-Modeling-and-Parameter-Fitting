{
 "cells": [
  {
   "cell_type": "code",
   "execution_count": 1,
   "metadata": {},
   "outputs": [],
   "source": [
    "import numpy as np\n",
    "import pandas as pd"
   ]
  },
  {
   "cell_type": "code",
   "execution_count": 2,
   "metadata": {},
   "outputs": [],
   "source": [
    "df = pd.read_csv('/Users/kazi0302/Desktop/SDSU/MSCSDS/COVID-19-Modeling-and-Parameter-Fitting/Data/Local Mobility Data.xlsx - HHSA.csv')"
   ]
  },
  {
   "cell_type": "code",
   "execution_count": 3,
   "metadata": {},
   "outputs": [],
   "source": [
    "central = 511660\n",
    "east = 488330\n",
    "n_central = 646380\n",
    "n_coastal = 535219\n",
    "n_inland = 602000\n",
    "south = 500076"
   ]
  },
  {
   "cell_type": "code",
   "execution_count": 4,
   "metadata": {},
   "outputs": [],
   "source": [
    "for index, row in df.iterrows():\n",
    "    if type(row['Updated May 8 Number']) is str:\n",
    "        df.at[index, 'Updated May 8 Number'] = row['Updated May 8 Number'].replace(',', '')"
   ]
  },
  {
   "cell_type": "code",
   "execution_count": 5,
   "metadata": {},
   "outputs": [],
   "source": [
    "Central = {}\n",
    "East = {}\n",
    "N_Central = {}\n",
    "N_Coastal = {}\n",
    "N_Inland = {}\n",
    "South = {}\n",
    "\n",
    "\n",
    "for index, row in df.iterrows():\n",
    "    if row['h_hhsa_name (ORIGIN)'] == 'CENTRAL' and row['w_hhsa_name (DESTINATION)'] not in Central:\n",
    "        Central[row['w_hhsa_name (DESTINATION)']] = [int(row['Baseline All Jobs']), int(row['Updated May 8 Number']), int(row['Updated May 8 Number'])/central]\n",
    "    elif row['h_hhsa_name (ORIGIN)'] == 'EAST' and row['w_hhsa_name (DESTINATION)'] not in East:\n",
    "        East[row['w_hhsa_name (DESTINATION)']] = [int(row['Baseline All Jobs']), int(row['Updated May 8 Number']), int(row['Updated May 8 Number'])/east]\n",
    "    elif row['h_hhsa_name (ORIGIN)'] == 'NORTH CENTRAL' and row['w_hhsa_name (DESTINATION)'] not in N_Central:\n",
    "        N_Central[row['w_hhsa_name (DESTINATION)']] = [int(row['Baseline All Jobs']), int(row['Updated May 8 Number']), int(row['Updated May 8 Number'])/n_central]\n",
    "    elif row['h_hhsa_name (ORIGIN)'] == 'NORTH COASTAL' and row['w_hhsa_name (DESTINATION)'] not in N_Coastal:\n",
    "        N_Coastal[row['w_hhsa_name (DESTINATION)']] = [int(row['Baseline All Jobs']), int(row['Updated May 8 Number']), int(row['Updated May 8 Number'])/n_coastal]\n",
    "    elif row['h_hhsa_name (ORIGIN)'] == 'NORTH INLAND' and row['w_hhsa_name (DESTINATION)'] not in N_Inland:\n",
    "        N_Inland[row['w_hhsa_name (DESTINATION)']] = [int(row['Baseline All Jobs']), int(row['Updated May 8 Number']), int(row['Updated May 8 Number'])/n_inland]\n",
    "    elif row['h_hhsa_name (ORIGIN)'] == 'SOUTH' and row['w_hhsa_name (DESTINATION)'] not in South:\n",
    "        South[row['w_hhsa_name (DESTINATION)']] = [int(row['Baseline All Jobs']), int(row['Updated May 8 Number']), int(row['Updated May 8 Number'])/south]\n",
    "\n",
    "Central.popitem()\n",
    "East.popitem()\n",
    "N_Central.popitem()\n",
    "N_Coastal.popitem()\n",
    "N_Inland.popitem()\n",
    "South.popitem()\n",
    "\n",
    "Central = pd.DataFrame.from_dict(Central, orient='index', columns=['Before 5/8', 'After 5/8', 'ratio moved'])\n",
    "East = pd.DataFrame.from_dict(East, orient='index', columns=['Before 5/8', 'After 5/8', 'ratio moved'])\n",
    "N_Central = pd.DataFrame.from_dict(N_Central, orient='index', columns=['Before 5/8', 'After 5/8', 'ratio moved'])\n",
    "N_Coastal = pd.DataFrame.from_dict(N_Coastal, orient='index', columns=['Before 5/8', 'After 5/8', 'ratio moved'])\n",
    "N_Inland = pd.DataFrame.from_dict(N_Inland, orient='index', columns=['Before 5/8', 'After 5/8', 'ratio moved'])\n",
    "South = pd.DataFrame.from_dict(South, orient='index', columns=['Before 5/8', 'After 5/8', 'ratio moved'])"
   ]
  },
  {
   "cell_type": "code",
   "execution_count": 6,
   "metadata": {},
   "outputs": [
    {
     "name": "stdout",
     "output_type": "stream",
     "text": [
      "##########Central##########\n",
      "               Before 5/8  After 5/8  ratio moved\n",
      "NORTH COASTAL        6265       6265     0.012244\n",
      "NORTH CENTRAL       77369      47969     0.093752\n",
      "CENTRAL             52925      67744     0.132400\n",
      "SOUTH               19312      12939     0.025288\n",
      "EAST                18068      12286     0.024012\n",
      "NORTH INLAND         9451       9451     0.018471\n",
      "\n",
      "##########East##########\n",
      "               Before 5/8  After 5/8  ratio moved\n",
      "NORTH COASTAL        6217       6217     0.012731\n",
      "NORTH CENTRAL       61336      73603     0.150724\n",
      "CENTRAL             27209      24488     0.050146\n",
      "SOUTH               13998      13998     0.028665\n",
      "EAST                62893      83019     0.170006\n",
      "NORTH INLAND        12511      12511     0.025620\n",
      "\n",
      "##########North Central##########\n",
      "               Before 5/8  After 5/8  ratio moved\n",
      "NORTH COASTAL       13229      13229     0.020466\n",
      "NORTH CENTRAL      135269     169086     0.261589\n",
      "CENTRAL             34489      24487     0.037883\n",
      "SOUTH                9588       9588     0.014833\n",
      "EAST                12980      10124     0.015663\n",
      "NORTH INLAND        19578      19578     0.030289\n",
      "\n",
      "##########North Coastal##########\n",
      "               Before 5/8  After 5/8  ratio moved\n",
      "NORTH COASTAL       90238     120919     0.225924\n",
      "NORTH CENTRAL       33295      33295     0.062208\n",
      "CENTRAL              5942       5942     0.011102\n",
      "SOUTH                2428       2428     0.004536\n",
      "EAST                 2951       2951     0.005514\n",
      "NORTH INLAND        26859      34917     0.065239\n",
      "\n",
      "##########North Inland##########\n",
      "               Before 5/8  After 5/8  ratio moved\n",
      "NORTH COASTAL       36852      28745     0.047749\n",
      "NORTH CENTRAL       58747      58747     0.097586\n",
      "CENTRAL             10551      10551     0.017527\n",
      "SOUTH                4037       4037     0.006706\n",
      "EAST                 7904       7904     0.013130\n",
      "NORTH INLAND        85670     113941     0.189271\n",
      "\n",
      "##########South##########\n",
      "               Before 5/8  After 5/8  ratio moved\n",
      "NORTH COASTAL        5437       5437     0.010872\n",
      "NORTH CENTRAL       53673      53673     0.107330\n",
      "CENTRAL             32902      25993     0.051978\n",
      "SOUTH               64913      80492     0.160960\n",
      "EAST                16627      16627     0.033249\n",
      "NORTH INLAND         7484       7484     0.014966\n"
     ]
    }
   ],
   "source": [
    "print('##########Central##########')\n",
    "print(Central)\n",
    "print('\\n##########East##########')\n",
    "print(East)\n",
    "print('\\n##########North Central##########')\n",
    "print(N_Central)\n",
    "print('\\n##########North Coastal##########')\n",
    "print(N_Coastal)\n",
    "print('\\n##########North Inland##########')\n",
    "print(N_Inland)\n",
    "print('\\n##########South##########')\n",
    "print(South)"
   ]
  },
  {
   "cell_type": "code",
   "execution_count": null,
   "metadata": {},
   "outputs": [],
   "source": []
  }
 ],
 "metadata": {
  "kernelspec": {
   "display_name": "Python 3.9.12 ('data-science')",
   "language": "python",
   "name": "python3"
  },
  "language_info": {
   "codemirror_mode": {
    "name": "ipython",
    "version": 3
   },
   "file_extension": ".py",
   "mimetype": "text/x-python",
   "name": "python",
   "nbconvert_exporter": "python",
   "pygments_lexer": "ipython3",
   "version": "3.9.13"
  },
  "orig_nbformat": 4,
  "vscode": {
   "interpreter": {
    "hash": "6354a649cc0b693324a53dd55981932d92d4f5cef86098528e8bd6d383178d5c"
   }
  }
 },
 "nbformat": 4,
 "nbformat_minor": 2
}
