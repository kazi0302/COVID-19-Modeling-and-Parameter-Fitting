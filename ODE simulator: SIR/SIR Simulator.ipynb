{
 "cells": [
  {
   "cell_type": "code",
   "execution_count": 13,
   "metadata": {},
   "outputs": [],
   "source": [
    "import matplotlib.pyplot as plt\n",
    "import numpy as np\n",
    "from scipy.integrate import odeint"
   ]
  },
  {
   "cell_type": "code",
   "execution_count": 4,
   "metadata": {},
   "outputs": [],
   "source": [
    "H = 1000"
   ]
  },
  {
   "cell_type": "code",
   "execution_count": 14,
   "metadata": {},
   "outputs": [
    {
     "ename": "RuntimeError",
     "evalue": "The size of the array returned by func (5) does not match the size of y0 (6).",
     "output_type": "error",
     "traceback": [
      "\u001b[0;31m---------------------------------------------------------------------------\u001b[0m",
      "\u001b[0;31mRuntimeError\u001b[0m                              Traceback (most recent call last)",
      "\u001b[0;32m/var/folders/bj/rxgzxsys6l5_vz3tskqk6zgr0000gn/T/ipykernel_82455/4015630416.py\u001b[0m in \u001b[0;36m<module>\u001b[0;34m\u001b[0m\n\u001b[1;32m     32\u001b[0m \u001b[0;34m\u001b[0m\u001b[0m\n\u001b[1;32m     33\u001b[0m \u001b[0;31m# solve ODE\u001b[0m\u001b[0;34m\u001b[0m\u001b[0;34m\u001b[0m\u001b[0m\n\u001b[0;32m---> 34\u001b[0;31m \u001b[0mret\u001b[0m \u001b[0;34m=\u001b[0m \u001b[0modeint\u001b[0m\u001b[0;34m(\u001b[0m\u001b[0mderiv_High\u001b[0m\u001b[0;34m,\u001b[0m \u001b[0my0\u001b[0m\u001b[0;34m,\u001b[0m \u001b[0mt\u001b[0m\u001b[0;34m,\u001b[0m \u001b[0margs\u001b[0m\u001b[0;34m=\u001b[0m\u001b[0;34m(\u001b[0m\u001b[0mbeta_IH\u001b[0m\u001b[0;34m,\u001b[0m \u001b[0mbeta_AH\u001b[0m\u001b[0;34m,\u001b[0m \u001b[0mgamma\u001b[0m\u001b[0;34m,\u001b[0m \u001b[0mtheta\u001b[0m\u001b[0;34m,\u001b[0m \u001b[0mlam\u001b[0m\u001b[0;34m,\u001b[0m \u001b[0mdelta\u001b[0m\u001b[0;34m)\u001b[0m\u001b[0;34m)\u001b[0m\u001b[0;34m\u001b[0m\u001b[0;34m\u001b[0m\u001b[0m\n\u001b[0m\u001b[1;32m     35\u001b[0m \u001b[0mS\u001b[0m\u001b[0;34m,\u001b[0m \u001b[0mE\u001b[0m\u001b[0;34m,\u001b[0m \u001b[0mI\u001b[0m\u001b[0;34m,\u001b[0m \u001b[0mA\u001b[0m\u001b[0;34m,\u001b[0m \u001b[0mR\u001b[0m \u001b[0;34m=\u001b[0m \u001b[0mret\u001b[0m\u001b[0;34m.\u001b[0m\u001b[0mT\u001b[0m\u001b[0;34m\u001b[0m\u001b[0;34m\u001b[0m\u001b[0m\n\u001b[1;32m     36\u001b[0m \u001b[0;34m\u001b[0m\u001b[0m\n",
      "\u001b[0;32m/opt/anaconda3/envs/data-science/lib/python3.9/site-packages/scipy/integrate/odepack.py\u001b[0m in \u001b[0;36modeint\u001b[0;34m(func, y0, t, args, Dfun, col_deriv, full_output, ml, mu, rtol, atol, tcrit, h0, hmax, hmin, ixpr, mxstep, mxhnil, mxordn, mxords, printmessg, tfirst)\u001b[0m\n\u001b[1;32m    239\u001b[0m     \u001b[0mt\u001b[0m \u001b[0;34m=\u001b[0m \u001b[0mcopy\u001b[0m\u001b[0;34m(\u001b[0m\u001b[0mt\u001b[0m\u001b[0;34m)\u001b[0m\u001b[0;34m\u001b[0m\u001b[0;34m\u001b[0m\u001b[0m\n\u001b[1;32m    240\u001b[0m     \u001b[0my0\u001b[0m \u001b[0;34m=\u001b[0m \u001b[0mcopy\u001b[0m\u001b[0;34m(\u001b[0m\u001b[0my0\u001b[0m\u001b[0;34m)\u001b[0m\u001b[0;34m\u001b[0m\u001b[0;34m\u001b[0m\u001b[0m\n\u001b[0;32m--> 241\u001b[0;31m     output = _odepack.odeint(func, y0, t, args, Dfun, col_deriv, ml, mu,\n\u001b[0m\u001b[1;32m    242\u001b[0m                              \u001b[0mfull_output\u001b[0m\u001b[0;34m,\u001b[0m \u001b[0mrtol\u001b[0m\u001b[0;34m,\u001b[0m \u001b[0matol\u001b[0m\u001b[0;34m,\u001b[0m \u001b[0mtcrit\u001b[0m\u001b[0;34m,\u001b[0m \u001b[0mh0\u001b[0m\u001b[0;34m,\u001b[0m \u001b[0mhmax\u001b[0m\u001b[0;34m,\u001b[0m \u001b[0mhmin\u001b[0m\u001b[0;34m,\u001b[0m\u001b[0;34m\u001b[0m\u001b[0;34m\u001b[0m\u001b[0m\n\u001b[1;32m    243\u001b[0m                              \u001b[0mixpr\u001b[0m\u001b[0;34m,\u001b[0m \u001b[0mmxstep\u001b[0m\u001b[0;34m,\u001b[0m \u001b[0mmxhnil\u001b[0m\u001b[0;34m,\u001b[0m \u001b[0mmxordn\u001b[0m\u001b[0;34m,\u001b[0m \u001b[0mmxords\u001b[0m\u001b[0;34m,\u001b[0m\u001b[0;34m\u001b[0m\u001b[0;34m\u001b[0m\u001b[0m\n",
      "\u001b[0;31mRuntimeError\u001b[0m: The size of the array returned by func (5) does not match the size of y0 (6)."
     ]
    }
   ],
   "source": [
    "# set initial condition\n",
    "I0_HI = 1\n",
    "I0_LI = 10\n",
    "A0_HI = 1\n",
    "A0_LI = 10\n",
    "R0 = 0\n",
    "E0 = 2\n",
    "S0 = H - I0_LI - I0_HI - A0_HI - A0_LI - R0 - E0\n",
    "\n",
    "beta_IH, beta_AH = 0.5, 0.45 # transmission rate \n",
    "gamma = 0.2 # incubation rate\n",
    "theta = 0.3 # proportion showing symptom\n",
    "lam = 0.7 # infection period (1/lambda)\n",
    "delta = 0.1 # death rate per day\n",
    "t = np.linspace(0, 50, 50)\n",
    "\n",
    "# define ODE system\n",
    "def deriv_High(y, t, beta_IH, beta_AH, gamma, theta, lam, delta):\n",
    "\n",
    "    S_HI, E_HI, I_HI, I_LI, A_HI, A_LI = y\n",
    "\n",
    "    dSdt = -S_HI * (beta_IH * (I_HI + I_LI) + beta_AH * (A_HI + A_LI))\n",
    "    dEdt = (S_HI * (beta_IH * (I_HI + I_LI) + beta_AH * (A_HI + A_LI))) - gamma * E_HI\n",
    "    dIdt = (theta * gamma * E_HI) - (lam * I_HI) - (delta * I_HI)\n",
    "    dAdt = ((1 - theta) * gamma * E_HI) - (lam * A_HI)\n",
    "    dRdt = lam * (I_HI + A_HI)\n",
    "\n",
    "    return dSdt, dEdt, dIdt, dAdt, dRdt\n",
    "\n",
    "# combine initial condition\n",
    "y0 = S0, E0, I0_HI, I0_LI, A0_HI, A0_LI\n",
    "\n",
    "# solve ODE\n",
    "ret = odeint(deriv_High, y0, t, args=(beta_IH, beta_AH, gamma, theta, lam, delta))\n",
    "S, E, I, A, R = ret.T\n",
    "\n",
    "# plot ODE\n",
    "fig, ax = plt.subplots(figsize = (10,5))\n",
    "ax.set_title(f'SEIAR Model - ODE Simulation')\n",
    "ax.plot(t, S, 'b-', alpha=0.5, lw=2, label='Susceptible')\n",
    "ax.plot(t, E, 'g-', alpha=0.5, lw=2, label='Exposed')\n",
    "ax.plot(t, I, 'r-', alpha=0.5, lw=2, label='Symptomatic')\n",
    "ax.plot(t, A, 'm-', alpha=0.5, lw=2, label='Asymptomatic')\n",
    "ax.plot(t, R, 'y-', alpha=0.5, lw=2, label='Recovered')\n",
    "ax.legend()\n",
    "ax.grid()\n",
    "plt.show()"
   ]
  },
  {
   "cell_type": "code",
   "execution_count": null,
   "metadata": {},
   "outputs": [],
   "source": []
  }
 ],
 "metadata": {
  "interpreter": {
   "hash": "6354a649cc0b693324a53dd55981932d92d4f5cef86098528e8bd6d383178d5c"
  },
  "kernelspec": {
   "display_name": "Python 3.9.12 ('data-science')",
   "language": "python",
   "name": "python3"
  },
  "language_info": {
   "codemirror_mode": {
    "name": "ipython",
    "version": 3
   },
   "file_extension": ".py",
   "mimetype": "text/x-python",
   "name": "python",
   "nbconvert_exporter": "python",
   "pygments_lexer": "ipython3",
   "version": "3.9.12"
  },
  "orig_nbformat": 4
 },
 "nbformat": 4,
 "nbformat_minor": 2
}
