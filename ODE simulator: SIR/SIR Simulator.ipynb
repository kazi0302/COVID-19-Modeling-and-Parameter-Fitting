{
 "cells": [
  {
   "cell_type": "code",
   "execution_count": 1,
   "metadata": {},
   "outputs": [],
   "source": [
    "from ipywidgets import interact, interactive, fixed, interact_manual\n",
    "import ipywidgets as widgets\n",
    "from bqplot import pyplot as plt\n",
    "#import matplotlib.pyplot as plt\n",
    "import numpy as np\n",
    "from scipy.integrate import odeint\n",
    "import pandas as pd"
   ]
  },
  {
   "cell_type": "code",
   "execution_count": 2,
   "metadata": {},
   "outputs": [],
   "source": [
    "N = 1000\n",
    "t = np.linspace(0,70,70)"
   ]
  },
  {
   "cell_type": "code",
   "execution_count": 3,
   "metadata": {},
   "outputs": [],
   "source": [
    "def calc(b,g, N):\n",
    "    \"\"\"\n",
    "    Function to calculate and return SIR population.\n",
    "    \n",
    "    Parameters\n",
    "    ------------------------------------------------\n",
    "    b: transmission rate \n",
    "    g: recovery rate\n",
    "    \"\"\"\n",
    "    \n",
    "    I0, R0 = 1, 0\n",
    "    S0 = N - I0 - R0\n",
    "    beta, gamma = b, g \n",
    "    t = np.linspace(0,70,70)\n",
    "\n",
    "    def deriv(y, t, N, beta, gamma):\n",
    "        \"\"\"\n",
    "        Function to derive the SIR differential equations.\n",
    "    \n",
    "        Parameters\n",
    "        ------------------------------------------------\n",
    "        y: variable\n",
    "        t: range of time\n",
    "        N: total population\n",
    "        beta: transmission rate \n",
    "        gamma: recovery rate\n",
    "        \"\"\"\n",
    "        \n",
    "        S, I, R = y\n",
    "        dSdt = -beta * S * I / N\n",
    "        dIdt = beta * S * I / N - gamma * I\n",
    "        dRdt = gamma * I\n",
    "        return dSdt, dIdt, dRdt\n",
    "\n",
    "    y0 = S0, I0, R0\n",
    "    ret = odeint(deriv, y0, t, args=(N, beta, gamma))\n",
    "    return ret.T\n",
    "\n",
    "\n",
    "def graph_S(infection_S,recovery_S):\n",
    "    \"\"\"\n",
    "    Function to plot the SIR model\n",
    "    \n",
    "    Parameters\n",
    "    ------------------------------------------------\n",
    "    b: transmission rate \n",
    "    g: recovery rate\n",
    "    \"\"\"\n",
    "    \n",
    "    S,I,R= calc(infection_S,recovery_S, N)\n",
    "    fig.marks[0].y = S/N\n",
    "\n",
    "def graph_I(infection_I,recovery_I):\n",
    "    \"\"\"\n",
    "    Function to plot the SIR model\n",
    "    \n",
    "    Parameters\n",
    "    ------------------------------------------------\n",
    "    b: transmission rate \n",
    "    g: recovery rate\n",
    "    \"\"\"\n",
    "    \n",
    "    S,I,R= calc(infection_I,recovery_I, N)\n",
    "    fig.marks[0].y = I/N\n",
    "\n",
    "def graph_R(infection_R,recovery_R):\n",
    "    \"\"\"\n",
    "    Function to plot the SIR model\n",
    "    \n",
    "    Parameters\n",
    "    ------------------------------------------------\n",
    "    b: transmission rate \n",
    "    g: recovery rate\n",
    "    \"\"\"\n",
    "    \n",
    "    S,I,R= calc(infection_R,recovery_R, N)\n",
    "    fig.marks[0].y = R/N\n"
   ]
  },
  {
   "cell_type": "code",
   "execution_count": 8,
   "metadata": {},
   "outputs": [
    {
     "data": {
      "application/vnd.jupyter.widget-view+json": {
       "model_id": "8fc4888feb4240f0803b45e4a3eed218",
       "version_major": 2,
       "version_minor": 0
      },
      "text/plain": [
       "VBox(children=(Figure(axes=[Axis(scale=LinearScale()), Axis(orientation='vertical', scale=LinearScale())], fig…"
      ]
     },
     "metadata": {},
     "output_type": "display_data"
    },
    {
     "data": {
      "application/vnd.jupyter.widget-view+json": {
       "model_id": "35f2138683ff46dd92654162efc8cdcb",
       "version_major": 2,
       "version_minor": 0
      },
      "text/plain": [
       "interactive(children=(FloatSlider(value=0.55, description='infection_S', max=1.0, min=0.1, step=0.01), FloatSl…"
      ]
     },
     "metadata": {},
     "output_type": "display_data"
    },
    {
     "data": {
      "application/vnd.jupyter.widget-view+json": {
       "model_id": "a060e17eb4884ebb8dd5fc561b0c6a42",
       "version_major": 2,
       "version_minor": 0
      },
      "text/plain": [
       "interactive(children=(FloatSlider(value=0.55, description='infection_I', max=1.0, min=0.1, step=0.01), FloatSl…"
      ]
     },
     "metadata": {},
     "output_type": "display_data"
    },
    {
     "data": {
      "application/vnd.jupyter.widget-view+json": {
       "model_id": "6170e7e289c148fa91a9e8ff0b09b1f9",
       "version_major": 2,
       "version_minor": 0
      },
      "text/plain": [
       "interactive(children=(FloatSlider(value=0.55, description='infection_R', max=1.0, min=0.1, step=0.01), FloatSl…"
      ]
     },
     "metadata": {},
     "output_type": "display_data"
    },
    {
     "data": {
      "text/plain": [
       "<function __main__.graph_R(infection_R, recovery_R)>"
      ]
     },
     "execution_count": 8,
     "metadata": {},
     "output_type": "execute_result"
    }
   ],
   "source": [
    "S, I, R = calc(0.90,0.80, N)\n",
    "\n",
    "fig = plt.figure(figsize=(10,5),title='SIR Model',animation_speed=1000)\n",
    "plt.plot(t, I/N, 'r-', alpha=0.5, lw=2, labels=['Infected'])\n",
    "plt.plot(t, S/N, 'b-', alpha=0.5, lw=2, labels=['Susceptible'])\n",
    "plt.plot(t, R/N, 'g-', alpha=0.5, lw=2, labels=['Recovered'])\n",
    "plt.legend()\n",
    "plt.show()\n",
    "\n",
    "interact(graph_S,infection_S=(0.1,1.0,0.01),recovery_S=(0.1,1.0,0.01))\n",
    "interact(graph_I,infection_I=(0.1,1.0,0.01),recovery_I=(0.1,1.0,0.01))\n",
    "interact(graph_R,infection_R=(0.1,1.0,0.01),recovery_R=(0.1,1.0,0.01))"
   ]
  },
  {
   "cell_type": "code",
   "execution_count": null,
   "metadata": {},
   "outputs": [],
   "source": []
  }
 ],
 "metadata": {
  "interpreter": {
   "hash": "6354a649cc0b693324a53dd55981932d92d4f5cef86098528e8bd6d383178d5c"
  },
  "kernelspec": {
   "display_name": "Python 3.9.12 ('data-science')",
   "language": "python",
   "name": "python3"
  },
  "language_info": {
   "codemirror_mode": {
    "name": "ipython",
    "version": 3
   },
   "file_extension": ".py",
   "mimetype": "text/x-python",
   "name": "python",
   "nbconvert_exporter": "python",
   "pygments_lexer": "ipython3",
   "version": "3.9.12"
  },
  "orig_nbformat": 4
 },
 "nbformat": 4,
 "nbformat_minor": 2
}
