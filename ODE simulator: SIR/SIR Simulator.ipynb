{
 "cells": [
  {
   "cell_type": "code",
   "execution_count": 18,
   "metadata": {},
   "outputs": [],
   "source": [
    "from ipywidgets import interact\n",
    "import bqplot.pyplot as plt\n",
    "import numpy as np\n",
    "from scipy.integrate import odeint"
   ]
  },
  {
   "cell_type": "code",
   "execution_count": 16,
   "metadata": {},
   "outputs": [],
   "source": [
    "# define global parameters (change N if necessary)\n",
    "N = 1000\n",
    "t = np.linspace(0,70,70)"
   ]
  },
  {
   "cell_type": "markdown",
   "metadata": {},
   "source": [
    "## Fancy Way"
   ]
  },
  {
   "cell_type": "code",
   "execution_count": 3,
   "metadata": {},
   "outputs": [],
   "source": [
    "def calc(b,g, N):\n",
    "    \"\"\"\n",
    "    solve ODE\n",
    "    \n",
    "    Parameters\n",
    "    ------------------------------------------------\n",
    "    b: infection rate \n",
    "    g: recovery rate\n",
    "    \"\"\"\n",
    "    \n",
    "    I0, R0 = 1, 0 # set initial condition\n",
    "    S0 = N - I0 - R0 # set initial condition\n",
    "    beta, gamma = b, g # define parameter\n",
    "\n",
    "    def deriv(y, t, N, beta, gamma):\n",
    "        \"\"\"\n",
    "        define ODE\n",
    "    \n",
    "        Parameters\n",
    "        ------------------------------------------------\n",
    "        y: variable\n",
    "        t: range of time\n",
    "        N: total population\n",
    "        beta: transmission rate \n",
    "        gamma: recovery rate\n",
    "        \"\"\"\n",
    "        \n",
    "        S, I, R = y\n",
    "        dSdt = -beta * S * I / N\n",
    "        dIdt = beta * S * I / N - gamma * I\n",
    "        dRdt = gamma * I\n",
    "        return dSdt, dIdt, dRdt\n",
    "\n",
    "    y0 = S0, I0, R0 # combine initial condition\n",
    "    ret = odeint(deriv, y0, t, args=(N, beta, gamma)) # solve ODE\n",
    "    return ret.T"
   ]
  },
  {
   "cell_type": "code",
   "execution_count": 11,
   "metadata": {},
   "outputs": [],
   "source": [
    "def graph_S(infection,recovery):\n",
    "    \"\"\"\n",
    "    Function to plot the SIR model\n",
    "    \n",
    "    Parameters\n",
    "    ------------------------------------------------\n",
    "    b: infection rate \n",
    "    g: recovery rate\n",
    "    \"\"\"\n",
    "    \n",
    "    S,I,R= calc(infection, recovery, N)\n",
    "    fig.marks[0].y = S/N\n",
    "    fig.marks[0].y = I/N\n",
    "    fig.marks[0].y = R/N\n",
    "\n",
    "# def graph_I(infection_I,recovery_I):\n",
    "#     \"\"\"\n",
    "#     Same as above\n",
    "#     \"\"\"\n",
    "    \n",
    "#     S,I,R= calc(infection_I, recovery_I, N)\n",
    "#     fig.marks[0].y = I/N\n",
    "\n",
    "# def graph_R(infection_R,recovery_R):\n",
    "#     \"\"\"\n",
    "#     Same as above\n",
    "#     \"\"\"\n",
    "    \n",
    "#     S,I,R= calc(infection_R, recovery_R, N)\n",
    "#     fig.marks[0].y = R/N"
   ]
  },
  {
   "cell_type": "code",
   "execution_count": 12,
   "metadata": {},
   "outputs": [
    {
     "data": {
      "application/vnd.jupyter.widget-view+json": {
       "model_id": "2b03d864a784451b9139c551b99b622b",
       "version_major": 2,
       "version_minor": 0
      },
      "text/plain": [
       "VBox(children=(Figure(axes=[Axis(scale=LinearScale()), Axis(orientation='vertical', scale=LinearScale())], fig…"
      ]
     },
     "metadata": {},
     "output_type": "display_data"
    },
    {
     "data": {
      "application/vnd.jupyter.widget-view+json": {
       "model_id": "e29c7c2d740c4e47828a320da9989d22",
       "version_major": 2,
       "version_minor": 0
      },
      "text/plain": [
       "interactive(children=(FloatSlider(value=0.55, description='infection', max=1.0, min=0.1, step=0.01), FloatSlid…"
      ]
     },
     "metadata": {},
     "output_type": "display_data"
    },
    {
     "data": {
      "text/plain": [
       "<function __main__.graph_S(infection, recovery)>"
      ]
     },
     "execution_count": 12,
     "metadata": {},
     "output_type": "execute_result"
    }
   ],
   "source": [
    "# solve ODE\n",
    "S, I, R = calc(0.90, 0.80, N)\n",
    "\n",
    "# plot the ODE  \n",
    "fig = plt.figure(title='SIR Model', animation_speed=1000)\n",
    "plt.plot(t, I/N, 'r-', alpha=0.5, lw=2, labels=['Infected'])\n",
    "plt.plot(t, S/N, 'b-', alpha=0.5, lw=2, labels=['Susceptible'])\n",
    "plt.plot(t, R/N, 'g-', alpha=0.5, lw=2, labels=['Recovered'])\n",
    "plt.legend()\n",
    "plt.show()\n",
    "\n",
    "# add interactive method to modify beta and gamma\n",
    "interact(graph_S, infection=(0.1,1.0,0.01), recovery=(0.1,1.0,0.01))\n",
    "# interact(graph_I, infection_I=(0.1,1.0,0.01), recovery_I=(0.1,1.0,0.01))\n",
    "# interact(graph_R, infection_R=(0.1,1.0,0.01), recovery_R=(0.1,1.0,0.01))"
   ]
  },
  {
   "cell_type": "markdown",
   "metadata": {},
   "source": [
    "## Regular"
   ]
  },
  {
   "cell_type": "code",
   "execution_count": 19,
   "metadata": {},
   "outputs": [],
   "source": [
    "import matplotlib.pyplot as plt"
   ]
  },
  {
   "cell_type": "code",
   "execution_count": 32,
   "metadata": {},
   "outputs": [
    {
     "data": {
      "image/png": "[encoded data removed]",
      "text/plain": [
       "<Figure size 720x360 with 1 Axes>"
      ]
     },
     "metadata": {
      "needs_background": "light"
     },
     "output_type": "display_data"
    }
   ],
   "source": [
    "# set initial condition\n",
    "I0, R0 = 1, 0\n",
    "S0 = N - I0 - R0\n",
    "beta, gamma = 0.2, 1./10 \n",
    "t = np.linspace(0, 160, 160)\n",
    "\n",
    "# define ODE system\n",
    "def deriv(y, t, N, beta, gamma):\n",
    "    S, I, R = y\n",
    "    dSdt = -beta * S * I / N\n",
    "    dIdt = beta * S * I / N - gamma * I\n",
    "    dRdt = gamma * I\n",
    "    return dSdt, dIdt, dRdt\n",
    "\n",
    "# combine initial condition\n",
    "y0 = S0, I0, R0\n",
    "\n",
    "# solve ODE\n",
    "ret = odeint(deriv, y0, t, args=(N, beta, gamma))\n",
    "S, I, R = ret.T\n",
    "\n",
    "# plot ODE\n",
    "fig, ax = plt.subplots(figsize = (10,5))\n",
    "ax.plot(t, S/N, 'b', alpha=0.5, lw=2, label='Susceptible')\n",
    "ax.plot(t, I/N, 'r', alpha=0.5, lw=2, label='Infected')\n",
    "ax.plot(t, R/N, 'g', alpha=0.5, lw=2, label='Recovered')\n",
    "ax.legend()\n",
    "ax.grid()\n",
    "plt.show()"
   ]
  },
  {
   "cell_type": "code",
   "execution_count": null,
   "metadata": {},
   "outputs": [],
   "source": []
  }
 ],
 "metadata": {
  "interpreter": {
   "hash": "6354a649cc0b693324a53dd55981932d92d4f5cef86098528e8bd6d383178d5c"
  },
  "kernelspec": {
   "display_name": "Python 3.9.12 ('data-science')",
   "language": "python",
   "name": "python3"
  },
  "language_info": {
   "codemirror_mode": {
    "name": "ipython",
    "version": 3
   },
   "file_extension": ".py",
   "mimetype": "text/x-python",
   "name": "python",
   "nbconvert_exporter": "python",
   "pygments_lexer": "ipython3",
   "version": "3.9.12"
  },
  "orig_nbformat": 4
 },
 "nbformat": 4,
 "nbformat_minor": 2
}
