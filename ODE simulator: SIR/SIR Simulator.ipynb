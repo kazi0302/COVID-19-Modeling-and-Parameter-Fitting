{
 "cells": [
  {
   "cell_type": "code",
   "execution_count": 1,
   "metadata": {},
   "outputs": [],
   "source": [
    "from ipywidgets import interact, interactive, fixed, interact_manual\n",
    "import ipywidgets as widgets\n",
    "from bqplot import pyplot as plt\n",
    "#import matplotlib.pyplot as plt\n",
    "import numpy as np\n",
    "from scipy.integrate import odeint\n",
    "import pandas as pd"
   ]
  },
  {
   "cell_type": "code",
   "execution_count": 2,
   "metadata": {},
   "outputs": [
    {
     "data": {
      "application/vnd.jupyter.widget-view+json": {
       "model_id": "828d7e3fde884ab3aadd273524b3a012",
       "version_major": 2,
       "version_minor": 0
      },
      "text/plain": [
       "interactive(children=(FloatSlider(value=0.55, description='b', max=1.0, min=0.1, step=0.01), FloatSlider(value…"
      ]
     },
     "metadata": {},
     "output_type": "display_data"
    },
    {
     "data": {
      "text/plain": [
       "<function __main__.graph(b, g)>"
      ]
     },
     "execution_count": 2,
     "metadata": {},
     "output_type": "execute_result"
    }
   ],
   "source": [
    "def calc(b,g, N):\n",
    "    \"\"\"\n",
    "    Function to calculate and return SIR population.\n",
    "    \n",
    "    Parameters\n",
    "    ------------------------------------------------\n",
    "    b: transmission rate \n",
    "    g: recovery rate\n",
    "    \"\"\"\n",
    "    \n",
    "    I0, R0 = 1, 0\n",
    "    S0 = N - I0 - R0\n",
    "    beta, gamma = b, g \n",
    "    t = np.linspace(0,70,70)\n",
    "\n",
    "    def deriv(y, t, N, beta, gamma):\n",
    "        \"\"\"\n",
    "        Function to derive the SIR differential equations.\n",
    "    \n",
    "        Parameters\n",
    "        ------------------------------------------------\n",
    "        y: variable\n",
    "        t: range of time\n",
    "        N: total population\n",
    "        beta: transmission rate \n",
    "        gamma: recovery rate\n",
    "        \"\"\"\n",
    "        \n",
    "        S, I, R = y\n",
    "        dSdt = -beta * S * I / N\n",
    "        dIdt = beta * S * I / N - gamma * I\n",
    "        dRdt = gamma * I\n",
    "        return dSdt, dIdt, dRdt\n",
    "\n",
    "    y0 = S0, I0, R0\n",
    "    ret = odeint(deriv, y0, t, args=(N, beta, gamma))\n",
    "    return ret.T\n",
    "\n",
    "def graph(b,g):\n",
    "    \"\"\"\n",
    "    Function to plot the SIR model\n",
    "    \n",
    "    Parameters\n",
    "    ------------------------------------------------\n",
    "    b: transmission rate \n",
    "    g: recovery rate\n",
    "    \"\"\"\n",
    "    \n",
    "    S,I,R= calc(b,g, 1000)\n",
    "    fig.title=f'contact: {b*100:.2f}%, recovery: {g*100:.2f}%'\n",
    "\n",
    "S, I, R = calc(0.90,0.80, 1000)\n",
    "\n",
    "fig = plt.figure(1, title='Active Population',animation_speed=1000)\n",
    "plt.plot(np.linspace(0,70,70), S/1000)\n",
    "# fig, ax = plt.subplots(figsize=(10, 5))\n",
    "# ax.plot(np.linspace(0,70,70), S/1000, label='Susceptible')\n",
    "# ax.plot(np.linspace(0,70,70), I/1000, label='Infected')\n",
    "# ax.plot(np.linspace(0,70,70), R/1000, label='Recovered')\n",
    "# ax.legend().get_frame().set_alpha(0.5)\n",
    "# ax.grid()\n",
    "\n",
    "interact(graph,b=(0.1,1.0,0.01),g=(0.1,1.0,0.01))"
   ]
  },
  {
   "cell_type": "code",
   "execution_count": null,
   "metadata": {},
   "outputs": [],
   "source": []
  }
 ],
 "metadata": {
  "interpreter": {
   "hash": "6354a649cc0b693324a53dd55981932d92d4f5cef86098528e8bd6d383178d5c"
  },
  "kernelspec": {
   "display_name": "Python 3.9.12 ('data-science')",
   "language": "python",
   "name": "python3"
  },
  "language_info": {
   "codemirror_mode": {
    "name": "ipython",
    "version": 3
   },
   "file_extension": ".py",
   "mimetype": "text/x-python",
   "name": "python",
   "nbconvert_exporter": "python",
   "pygments_lexer": "ipython3",
   "version": "3.9.12"
  },
  "orig_nbformat": 4
 },
 "nbformat": 4,
 "nbformat_minor": 2
}
